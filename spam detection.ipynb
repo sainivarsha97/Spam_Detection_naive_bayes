{
 "cells": [
  {
   "cell_type": "code",
   "execution_count": 7,
   "metadata": {},
   "outputs": [],
   "source": [
    "import pandas as pd\n",
    "import nltk\n",
    "from nltk.corpus import stopwords\n",
    "import string\n",
    "from nltk.stem import WordNetLemmatizer\n",
    "from nltk import pos_tag\n",
    "\n",
    "from nltk.tokenize import word_tokenize"
   ]
  },
  {
   "cell_type": "code",
   "execution_count": 8,
   "metadata": {},
   "outputs": [],
   "source": [
    "dataset=pd.read_csv('spam.csv',encoding = \"ISO-8859-1\",usecols=[0,1])\n",
    "x=dataset.iloc[:,1]\n",
    "y=dataset.iloc[:,0]\n",
    "y=list(y)\n"
   ]
  },
  {
   "cell_type": "code",
   "execution_count": 9,
   "metadata": {},
   "outputs": [],
   "source": [
    "extra_words=list(string.punctuation)+stopwords.words('english')\n",
    "lemm = WordNetLemmatizer()"
   ]
  },
  {
   "cell_type": "code",
   "execution_count": 10,
   "metadata": {},
   "outputs": [],
   "source": [
    "def get_wordnet_pos(treebank_tag):\n",
    "\n",
    "    if treebank_tag.startswith('J'):\n",
    "        return 'a'\n",
    "    elif treebank_tag.startswith('V'):\n",
    "        return 'v'\n",
    "    elif treebank_tag.startswith('N'):\n",
    "        return 'n'\n",
    "    elif treebank_tag.startswith('R'):\n",
    "        return 'r'\n",
    "    else:\n",
    "        return ''"
   ]
  },
  {
   "cell_type": "code",
   "execution_count": 11,
   "metadata": {},
   "outputs": [],
   "source": [
    "def clean(data,extra_words):\n",
    "    data=data.split()\n",
    "    new_data=[]\n",
    "   \n",
    "    for word in data:\n",
    "        if word  not in extra_words and len(word)>2:\n",
    "            \n",
    "            Word=[]\n",
    "            for w in word:\n",
    "                if w not in string.punctuation and w.isalpha()==True:\n",
    "                    Word.append(w)\n",
    "            word1=''.join(Word)\n",
    "            word2=word1.lower()  \n",
    "            if(len(word2))>2 and word.startswith('www')==False:\n",
    "                try:\n",
    "                    \n",
    "                    a=get_wordnet_pos(word2)\n",
    "                   \n",
    "                    new_word=lemm.lemmatize(word2,pos=a)\n",
    "                   \n",
    "                    new_data.append(new_word)\n",
    "                \n",
    "                except:\n",
    "                    new_data.append(word2)\n",
    "            else:\n",
    "                continue\n",
    "                \n",
    "            \n",
    "    return new_data\n",
    "            \n",
    "            \n",
    "            \n",
    "            \n",
    "            "
   ]
  },
  {
   "cell_type": "code",
   "execution_count": 12,
   "metadata": {},
   "outputs": [],
   "source": [
    "def vocab(x):\n",
    "    document=[]\n",
    "    for i in x:\n",
    "        document+=clean(i,extra_words)\n",
    "    dist = nltk.FreqDist(document)\n",
    "    vocab_with_frequency = dist.most_common(1500)\n",
    "    vocab = [i[0] for i in vocab_with_frequency]\n",
    "    return vocab   "
   ]
  },
  {
   "cell_type": "code",
   "execution_count": 13,
   "metadata": {},
   "outputs": [],
   "source": [
    "def get_feature(data,vocabulary):\n",
    "    words=word_tokenize(data)\n",
    "    #print(type(words))\n",
    "\n",
    "    feature={}\n",
    "    for w in vocabulary:\n",
    "        #print(w)\n",
    "        feature[w]=words.count(w)\n",
    "    #print(feature)   \n",
    "    return feature"
   ]
  },
  {
   "cell_type": "code",
   "execution_count": 14,
   "metadata": {},
   "outputs": [],
   "source": [
    "vocabulary=list(vocab(x))\n",
    "new_x=[]\n",
    "for i in x:\n",
    "    new_x.append(get_feature(i,vocabulary))"
   ]
  },
  {
   "cell_type": "code",
   "execution_count": 15,
   "metadata": {},
   "outputs": [],
   "source": [
    "data=[]\n",
    "for i in range(len(new_x)):\n",
    "    data.append((new_x[i],y[i]))\n"
   ]
  },
  {
   "cell_type": "code",
   "execution_count": 16,
   "metadata": {},
   "outputs": [],
   "source": [
    "import random\n",
    "random.shuffle(data)"
   ]
  },
  {
   "cell_type": "code",
   "execution_count": 17,
   "metadata": {},
   "outputs": [],
   "source": [
    "training_data=data[:3801]\n",
    "testing_data=data[3801:]"
   ]
  },
  {
   "cell_type": "code",
   "execution_count": 18,
   "metadata": {},
   "outputs": [
    {
     "name": "stdout",
     "output_type": "stream",
     "text": [
      "Most Informative Features\n",
      "                     txt = 1                spam : ham    =     91.0 : 1.0\n",
      "                   apply = 1                spam : ham    =     88.0 : 1.0\n",
      "                landline = 1                spam : ham    =     79.5 : 1.0\n",
      "                 network = 1                spam : ham    =     75.2 : 1.0\n",
      "                    draw = 1                spam : ham    =     70.9 : 1.0\n",
      "                customer = 1                spam : ham    =     65.7 : 1.0\n",
      "                    rate = 1                spam : ham    =     62.3 : 1.0\n",
      "                 anytime = 1                spam : ham    =     53.7 : 1.0\n",
      "                   video = 1                spam : ham    =     53.6 : 1.0\n",
      "                     win = 1                spam : ham    =     52.8 : 1.0\n"
     ]
    }
   ],
   "source": [
    "clf = nltk.NaiveBayesClassifier.train(training_data)\n",
    "clf.show_most_informative_features(10)"
   ]
  },
  {
   "cell_type": "code",
   "execution_count": 19,
   "metadata": {},
   "outputs": [
    {
     "data": {
      "text/plain": [
       "0.9723320158102767"
      ]
     },
     "execution_count": 19,
     "metadata": {},
     "output_type": "execute_result"
    }
   ],
   "source": [
    "nltk.classify.accuracy(clf, testing_data)"
   ]
  },
  {
   "cell_type": "code",
   "execution_count": 20,
   "metadata": {},
   "outputs": [
    {
     "data": {
      "text/plain": [
       "(5572, 1500)"
      ]
     },
     "execution_count": 20,
     "metadata": {},
     "output_type": "execute_result"
    }
   ],
   "source": [
    "new_x=pd.DataFrame(new_x)\n",
    "new_x.shape"
   ]
  },
  {
   "cell_type": "code",
   "execution_count": 21,
   "metadata": {},
   "outputs": [],
   "source": [
    "from sklearn.model_selection import train_test_split"
   ]
  },
  {
   "cell_type": "code",
   "execution_count": 22,
   "metadata": {},
   "outputs": [],
   "source": [
    "train_x,test_x,train_y,test_y=train_test_split(new_x,y,test_size=0.2,random_state=1)"
   ]
  },
  {
   "cell_type": "code",
   "execution_count": 23,
   "metadata": {},
   "outputs": [
    {
     "data": {
      "text/plain": [
       "MultinomialNB(alpha=1.0, class_prior=None, fit_prior=True)"
      ]
     },
     "execution_count": 23,
     "metadata": {},
     "output_type": "execute_result"
    }
   ],
   "source": [
    "from sklearn.naive_bayes import MultinomialNB\n",
    "naive_bayes = MultinomialNB() #call the method\n",
    "naive_bayes.fit(train_x, train_y)"
   ]
  },
  {
   "cell_type": "code",
   "execution_count": 24,
   "metadata": {},
   "outputs": [],
   "source": [
    "predictions = naive_bayes.predict(test_x)"
   ]
  },
  {
   "cell_type": "code",
   "execution_count": 25,
   "metadata": {},
   "outputs": [
    {
     "data": {
      "text/plain": [
       "0.9650224215246637"
      ]
     },
     "execution_count": 25,
     "metadata": {},
     "output_type": "execute_result"
    }
   ],
   "source": [
    "naive_bayes.score(test_x,test_y)"
   ]
  },
  {
   "cell_type": "code",
   "execution_count": null,
   "metadata": {},
   "outputs": [],
   "source": []
  }
 ],
 "metadata": {
  "kernelspec": {
   "display_name": "Python 3",
   "language": "python",
   "name": "python3"
  },
  "language_info": {
   "codemirror_mode": {
    "name": "ipython",
    "version": 3
   },
   "file_extension": ".py",
   "mimetype": "text/x-python",
   "name": "python",
   "nbconvert_exporter": "python",
   "pygments_lexer": "ipython3",
   "version": "3.7.0"
  }
 },
 "nbformat": 4,
 "nbformat_minor": 2
}
